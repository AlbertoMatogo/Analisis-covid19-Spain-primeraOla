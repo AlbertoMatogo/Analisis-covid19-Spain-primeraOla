{
 "cells": [
  {
   "cell_type": "markdown",
   "metadata": {},
   "source": [
    "# Modelo de crecimiento logístico aplicado en la evolución del Covid-19"
   ]
  },
  {
   "cell_type": "markdown",
   "metadata": {},
   "source": [
    "* Se aplica el modelo de crecimiento logistico modificado del modelo de P.F. VERHULST \n",
    "* El objetivo de aplicar este algoritmo es el de obtener un modelo predictivo, asi como los valores de sus coeficientes\n",
    "* Se pretende obtener la derivada del modelo, para analizar los diferentes puntos de inflexión de la evolución de los datos de la pandemia en la primera ola \n",
    "* Al comparar tanto los coeficientes del modelo, el punto de inflexión, combinándolo con el análisis de la decisiones tomadas, se pude llegar a diferentes conclusiones que pueden ayudar a mejorar la toma de decisiones."
   ]
  },
  {
   "cell_type": "code",
   "execution_count": 1,
   "metadata": {},
   "outputs": [],
   "source": [
    "import pandas as pd\n",
    "import numpy as np\n",
    "import matplotlib.pyplot as plt\n",
    "import seaborn as sns\n",
    "from IPython.display import display, Math, Latex\n",
    "\n",
    "from scipy.optimize import curve_fit\n",
    "from scipy.stats import pearsonr\n",
    "from scipy import stats\n",
    "\n",
    "from sklearn.metrics import r2_score"
   ]
  },
  {
   "cell_type": "code",
   "execution_count": 2,
   "metadata": {},
   "outputs": [],
   "source": [
    "#Definir el path donde se encuentra el dataset con los datos de confirmados\n",
    "path1=\"Dataset\\\\COVID-19-master\\\\csse_covid_19_data\\\\csse_covid_19_time_series\\\\time_series_covid19_confirmed_global.csv\""
   ]
  },
  {
   "cell_type": "code",
   "execution_count": 3,
   "metadata": {},
   "outputs": [],
   "source": [
    "data_confirmed=pd.read_csv(path1)\n",
    "Data_Confirmed_Spain=data_confirmed[data_confirmed[\"Country/Region\"]==\"Spain\"]"
   ]
  },
  {
   "cell_type": "code",
   "execution_count": 4,
   "metadata": {},
   "outputs": [
    {
     "data": {
      "text/html": [
       "<div>\n",
       "<style scoped>\n",
       "    .dataframe tbody tr th:only-of-type {\n",
       "        vertical-align: middle;\n",
       "    }\n",
       "\n",
       "    .dataframe tbody tr th {\n",
       "        vertical-align: top;\n",
       "    }\n",
       "\n",
       "    .dataframe thead th {\n",
       "        text-align: right;\n",
       "    }\n",
       "</style>\n",
       "<table border=\"1\" class=\"dataframe\">\n",
       "  <thead>\n",
       "    <tr style=\"text-align: right;\">\n",
       "      <th></th>\n",
       "      <th>Province/State</th>\n",
       "      <th>Country/Region</th>\n",
       "      <th>Lat</th>\n",
       "      <th>Long</th>\n",
       "      <th>1/22/20</th>\n",
       "      <th>1/23/20</th>\n",
       "      <th>1/24/20</th>\n",
       "      <th>1/25/20</th>\n",
       "      <th>1/26/20</th>\n",
       "      <th>1/27/20</th>\n",
       "      <th>...</th>\n",
       "      <th>8/16/20</th>\n",
       "      <th>8/17/20</th>\n",
       "      <th>8/18/20</th>\n",
       "      <th>8/19/20</th>\n",
       "      <th>8/20/20</th>\n",
       "      <th>8/21/20</th>\n",
       "      <th>8/22/20</th>\n",
       "      <th>8/23/20</th>\n",
       "      <th>8/24/20</th>\n",
       "      <th>8/25/20</th>\n",
       "    </tr>\n",
       "  </thead>\n",
       "  <tbody>\n",
       "    <tr>\n",
       "      <th>226</th>\n",
       "      <td>NaN</td>\n",
       "      <td>Spain</td>\n",
       "      <td>40.463667</td>\n",
       "      <td>-3.74922</td>\n",
       "      <td>0</td>\n",
       "      <td>0</td>\n",
       "      <td>0</td>\n",
       "      <td>0</td>\n",
       "      <td>0</td>\n",
       "      <td>0</td>\n",
       "      <td>...</td>\n",
       "      <td>342813</td>\n",
       "      <td>359082</td>\n",
       "      <td>364196</td>\n",
       "      <td>370867</td>\n",
       "      <td>377906</td>\n",
       "      <td>386054</td>\n",
       "      <td>386054</td>\n",
       "      <td>386054</td>\n",
       "      <td>405436</td>\n",
       "      <td>412553</td>\n",
       "    </tr>\n",
       "  </tbody>\n",
       "</table>\n",
       "<p>1 rows × 221 columns</p>\n",
       "</div>"
      ],
      "text/plain": [
       "    Province/State Country/Region        Lat     Long  1/22/20  1/23/20  \\\n",
       "226            NaN          Spain  40.463667 -3.74922        0        0   \n",
       "\n",
       "     1/24/20  1/25/20  1/26/20  1/27/20  ...  8/16/20  8/17/20  8/18/20  \\\n",
       "226        0        0        0        0  ...   342813   359082   364196   \n",
       "\n",
       "     8/19/20  8/20/20  8/21/20  8/22/20  8/23/20  8/24/20  8/25/20  \n",
       "226   370867   377906   386054   386054   386054   405436   412553  \n",
       "\n",
       "[1 rows x 221 columns]"
      ]
     },
     "execution_count": 4,
     "metadata": {},
     "output_type": "execute_result"
    }
   ],
   "source": [
    "Data_Confirmed_Spain.head()"
   ]
  },
  {
   "cell_type": "code",
   "execution_count": 5,
   "metadata": {},
   "outputs": [
    {
     "data": {
      "text/plain": [
       "(217, 217)"
      ]
     },
     "execution_count": 5,
     "metadata": {},
     "output_type": "execute_result"
    }
   ],
   "source": [
    "#Lista con valores de fecha (evadiendolas 4 primeras filas)\n",
    "date_value_list=data_confirmed.columns.values.tolist()\n",
    "date_value=date_value_list[4:]\n",
    "#Lista de confirmados\n",
    "confirmed_value=Data_Confirmed_Spain.iloc[0,4:].tolist()\n",
    "(len(date_value),len(confirmed_value))"
   ]
  },
  {
   "cell_type": "code",
   "execution_count": 6,
   "metadata": {},
   "outputs": [
    {
     "data": {
      "text/plain": [
       "217"
      ]
     },
     "execution_count": 6,
     "metadata": {},
     "output_type": "execute_result"
    }
   ],
   "source": [
    "#Se trabaja con el número de días, no con las fechas\n",
    "n_dias=range(1,len(date_value)+1)\n",
    "n_dias_list=list(n_dias)\n",
    "len(n_dias_list)"
   ]
  },
  {
   "cell_type": "code",
   "execution_count": 7,
   "metadata": {},
   "outputs": [],
   "source": [
    "#Preparación del DataFrame\n",
    "Spain_Data=pd.DataFrame({\n",
    "    \"Días\":n_dias_list,\n",
    "    \"Total Confirmados\":confirmed_value,\n",
    "})"
   ]
  },
  {
   "cell_type": "code",
   "execution_count": 8,
   "metadata": {},
   "outputs": [
    {
     "data": {
      "text/html": [
       "<div>\n",
       "<style scoped>\n",
       "    .dataframe tbody tr th:only-of-type {\n",
       "        vertical-align: middle;\n",
       "    }\n",
       "\n",
       "    .dataframe tbody tr th {\n",
       "        vertical-align: top;\n",
       "    }\n",
       "\n",
       "    .dataframe thead th {\n",
       "        text-align: right;\n",
       "    }\n",
       "</style>\n",
       "<table border=\"1\" class=\"dataframe\">\n",
       "  <thead>\n",
       "    <tr style=\"text-align: right;\">\n",
       "      <th></th>\n",
       "      <th>Días</th>\n",
       "      <th>Total Confirmados</th>\n",
       "    </tr>\n",
       "  </thead>\n",
       "  <tbody>\n",
       "    <tr>\n",
       "      <th>0</th>\n",
       "      <td>1</td>\n",
       "      <td>0</td>\n",
       "    </tr>\n",
       "    <tr>\n",
       "      <th>1</th>\n",
       "      <td>2</td>\n",
       "      <td>0</td>\n",
       "    </tr>\n",
       "    <tr>\n",
       "      <th>2</th>\n",
       "      <td>3</td>\n",
       "      <td>0</td>\n",
       "    </tr>\n",
       "    <tr>\n",
       "      <th>3</th>\n",
       "      <td>4</td>\n",
       "      <td>0</td>\n",
       "    </tr>\n",
       "    <tr>\n",
       "      <th>4</th>\n",
       "      <td>5</td>\n",
       "      <td>0</td>\n",
       "    </tr>\n",
       "    <tr>\n",
       "      <th>5</th>\n",
       "      <td>6</td>\n",
       "      <td>0</td>\n",
       "    </tr>\n",
       "    <tr>\n",
       "      <th>6</th>\n",
       "      <td>7</td>\n",
       "      <td>0</td>\n",
       "    </tr>\n",
       "    <tr>\n",
       "      <th>7</th>\n",
       "      <td>8</td>\n",
       "      <td>0</td>\n",
       "    </tr>\n",
       "    <tr>\n",
       "      <th>8</th>\n",
       "      <td>9</td>\n",
       "      <td>0</td>\n",
       "    </tr>\n",
       "    <tr>\n",
       "      <th>9</th>\n",
       "      <td>10</td>\n",
       "      <td>0</td>\n",
       "    </tr>\n",
       "  </tbody>\n",
       "</table>\n",
       "</div>"
      ],
      "text/plain": [
       "   Días  Total Confirmados\n",
       "0     1                  0\n",
       "1     2                  0\n",
       "2     3                  0\n",
       "3     4                  0\n",
       "4     5                  0\n",
       "5     6                  0\n",
       "6     7                  0\n",
       "7     8                  0\n",
       "8     9                  0\n",
       "9    10                  0"
      ]
     },
     "execution_count": 8,
     "metadata": {},
     "output_type": "execute_result"
    }
   ],
   "source": [
    "#Del DataFrame muestra las 10 primeras\n",
    "Spain_Data.head(10)"
   ]
  },
  {
   "cell_type": "code",
   "execution_count": 9,
   "metadata": {},
   "outputs": [
    {
     "data": {
      "text/html": [
       "<div>\n",
       "<style scoped>\n",
       "    .dataframe tbody tr th:only-of-type {\n",
       "        vertical-align: middle;\n",
       "    }\n",
       "\n",
       "    .dataframe tbody tr th {\n",
       "        vertical-align: top;\n",
       "    }\n",
       "\n",
       "    .dataframe thead th {\n",
       "        text-align: right;\n",
       "    }\n",
       "</style>\n",
       "<table border=\"1\" class=\"dataframe\">\n",
       "  <thead>\n",
       "    <tr style=\"text-align: right;\">\n",
       "      <th></th>\n",
       "      <th>Días</th>\n",
       "      <th>Total Confirmados</th>\n",
       "    </tr>\n",
       "  </thead>\n",
       "  <tbody>\n",
       "    <tr>\n",
       "      <th>207</th>\n",
       "      <td>208</td>\n",
       "      <td>342813</td>\n",
       "    </tr>\n",
       "    <tr>\n",
       "      <th>208</th>\n",
       "      <td>209</td>\n",
       "      <td>359082</td>\n",
       "    </tr>\n",
       "    <tr>\n",
       "      <th>209</th>\n",
       "      <td>210</td>\n",
       "      <td>364196</td>\n",
       "    </tr>\n",
       "    <tr>\n",
       "      <th>210</th>\n",
       "      <td>211</td>\n",
       "      <td>370867</td>\n",
       "    </tr>\n",
       "    <tr>\n",
       "      <th>211</th>\n",
       "      <td>212</td>\n",
       "      <td>377906</td>\n",
       "    </tr>\n",
       "    <tr>\n",
       "      <th>212</th>\n",
       "      <td>213</td>\n",
       "      <td>386054</td>\n",
       "    </tr>\n",
       "    <tr>\n",
       "      <th>213</th>\n",
       "      <td>214</td>\n",
       "      <td>386054</td>\n",
       "    </tr>\n",
       "    <tr>\n",
       "      <th>214</th>\n",
       "      <td>215</td>\n",
       "      <td>386054</td>\n",
       "    </tr>\n",
       "    <tr>\n",
       "      <th>215</th>\n",
       "      <td>216</td>\n",
       "      <td>405436</td>\n",
       "    </tr>\n",
       "    <tr>\n",
       "      <th>216</th>\n",
       "      <td>217</td>\n",
       "      <td>412553</td>\n",
       "    </tr>\n",
       "  </tbody>\n",
       "</table>\n",
       "</div>"
      ],
      "text/plain": [
       "     Días  Total Confirmados\n",
       "207   208             342813\n",
       "208   209             359082\n",
       "209   210             364196\n",
       "210   211             370867\n",
       "211   212             377906\n",
       "212   213             386054\n",
       "213   214             386054\n",
       "214   215             386054\n",
       "215   216             405436\n",
       "216   217             412553"
      ]
     },
     "execution_count": 9,
     "metadata": {},
     "output_type": "execute_result"
    }
   ],
   "source": [
    "#Del DataFrame muestra las 10 últimas\n",
    "Spain_Data.tail(10)"
   ]
  },
  {
   "cell_type": "code",
   "execution_count": 10,
   "metadata": {},
   "outputs": [
    {
     "data": {
      "text/latex": [
       "$\\displaystyle N=\\frac{N0}{1+exp{\\frac{-(t-t0)}{T}}}$"
      ],
      "text/plain": [
       "<IPython.core.display.Math object>"
      ]
     },
     "metadata": {},
     "output_type": "display_data"
    }
   ],
   "source": [
    "#Función logística (Modelo logístico 1)\n",
    "display(Math(r\"N=\\frac{N0}{1+exp{\\frac{-(t-t0)}{T}}}\"))"
   ]
  },
  {
   "cell_type": "markdown",
   "metadata": {},
   "source": [
    "* N: Población\n",
    "* N0: Límite superior de crecimiento-->dN/dt=0-->N=constante\n",
    "* t:Número de días\n",
    "* to:coef de t0 (marca el día en el que se produce el punto de inflexión)\n",
    "* T: factor que controla la velocidad de crecimiento"
   ]
  },
  {
   "cell_type": "code",
   "execution_count": 11,
   "metadata": {},
   "outputs": [],
   "source": [
    "def func(t,N0,t0,T):\n",
    "    return N0/(1+np.exp(-(t-t0)/T))"
   ]
  },
  {
   "cell_type": "code",
   "execution_count": 12,
   "metadata": {},
   "outputs": [
    {
     "name": "stdout",
     "output_type": "stream",
     "text": [
      "[2.40521646e+05 7.51314380e+01 8.82531272e+00]\n"
     ]
    },
    {
     "data": {
      "image/png": "[encoded data removed]",
      "text/plain": [
       "<Figure size 1008x432 with 1 Axes>"
      ]
     },
     "metadata": {
      "needs_background": "light"
     },
     "output_type": "display_data"
    }
   ],
   "source": [
    "xData=np.array(Spain_Data[\"Días\"][0:175])\n",
    "yData=np.array(Spain_Data[\"Total Confirmados\"][0:175])\n",
    "#Ajuste de la ecuación a la evolución de los datos pasandole xData=t e yData=N\n",
    "#Curve_fit, busca el valor del resto de parámetros, minimizando el error\n",
    "popt,pcov=curve_fit(func,xData,yData)\n",
    "print(popt)\n",
    "\n",
    "Lista_one=np.ones(len(yData))*popt[1]\n",
    "\n",
    "xFit=np.arange(0,175,1)\n",
    "fig, ax=plt.subplots(figsize=(14,6))\n",
    "ax.scatter(xData,yData,marker='o',color='red',label='Datos reales')\n",
    "ax.set_xlabel(\"Días\").set_fontsize(14)\n",
    "ax.set_ylabel(\"nº de casos acumulados\").set_fontsize(14)\n",
    "ax.plot(xFit, func(xData,*popt),'b',label='datos modelo logístico')\n",
    "ax.plot(Lista_one, yData,'black',label='Punto de inflexión')\n",
    "ax.legend(loc='upper left');"
   ]
  },
  {
   "cell_type": "markdown",
   "metadata": {},
   "source": [
    "* N0=2.40521646e+05 (VALOR LÍMITE SUPERIOR)\n",
    "* t0=7.51314380e+01 (El punto de inflección se produce en el transcurso del día 75)\n",
    "* T=8.82531272e+00 (Crecimiento, decrecimiento de la curva)"
   ]
  },
  {
   "cell_type": "code",
   "execution_count": 13,
   "metadata": {},
   "outputs": [
    {
     "data": {
      "text/plain": [
       "0.9947703056662655"
      ]
     },
     "execution_count": 13,
     "metadata": {},
     "output_type": "execute_result"
    }
   ],
   "source": [
    "#Cálculo de R^2\n",
    "y_opt=func(xData,*popt)\n",
    "R_mcl=r2_score(y_opt,yData)\n",
    "R_mcl"
   ]
  },
  {
   "cell_type": "code",
   "execution_count": 14,
   "metadata": {},
   "outputs": [
    {
     "name": "stdout",
     "output_type": "stream",
     "text": [
      "Desviación estandar:  10280545819.055107\n",
      "Error estandar residual:  7708.769054872445\n",
      "Valor medio:  136848.57142857142\n",
      "Porcentaje del error respecto al valor medio:  5.633065054607504\n"
     ]
    }
   ],
   "source": [
    "#Valor, Nuevos factores estadisticos\n",
    "xData=np.array(Spain_Data[\"Días\"][0:175])\n",
    "yData=np.array(Spain_Data[\"Total Confirmados\"][0:175])\n",
    "SSD_mcl=np.sum((yData-y_opt)**2)\n",
    "RSE_mcl=np.sqrt(SSD_mcl/(len(yData)-2))\n",
    "y_mean=np.mean(yData)\n",
    "error_mcl=(RSE_mcl/y_mean)*100\n",
    "print(\"Desviación estandar: \", SSD_mcl)\n",
    "print(\"Error estandar residual: \", RSE_mcl)\n",
    "print(\"Valor medio: \", y_mean)\n",
    "print(\"Porcentaje del error respecto al valor medio: \", error_mcl)"
   ]
  },
  {
   "cell_type": "code",
   "execution_count": 15,
   "metadata": {},
   "outputs": [
    {
     "data": {
      "text/latex": [
       "$\\displaystyle N=\\frac{N0}{1+exp{\\frac{-(t-t0)}{T}}}$"
      ],
      "text/plain": [
       "<IPython.core.display.Math object>"
      ]
     },
     "metadata": {},
     "output_type": "display_data"
    },
    {
     "data": {
      "text/latex": [
       "$\\displaystyle \\frac{dN}{dt}=\\frac{N0 \\cdot exp(\\frac{-(t-t0)}{T})}{T \\cdot (1+exp{\\frac{-(t-t0)}{T}})^2}$"
      ],
      "text/plain": [
       "<IPython.core.display.Math object>"
      ]
     },
     "metadata": {},
     "output_type": "display_data"
    }
   ],
   "source": [
    "#derivada de la función logística (Modelo logístico 1)\n",
    "#De esta forma se comparará la evolución de los casos por día reales yla obtenida por el modelo\n",
    "display(Math(r\"N=\\frac{N0}{1+exp{\\frac{-(t-t0)}{T}}}\"))\n",
    "display(Math(r\"\\frac{dN}{dt}=\\frac{N0 \\cdot exp(\\frac{-(t-t0)}{T})}{T \\cdot (1+exp{\\frac{-(t-t0)}{T}})^2}\"))"
   ]
  },
  {
   "cell_type": "code",
   "execution_count": 16,
   "metadata": {},
   "outputs": [],
   "source": [
    "def funcdev(t,N0,t0,T):\n",
    "    return (N0*np.exp(-(t-t0)/T))/(T*(1+np.exp(-(t-t0)/T))**2)"
   ]
  },
  {
   "cell_type": "code",
   "execution_count": 17,
   "metadata": {},
   "outputs": [
    {
     "data": {
      "text/plain": [
       "175"
      ]
     },
     "execution_count": 17,
     "metadata": {},
     "output_type": "execute_result"
    }
   ],
   "source": [
    "#Como en el dataset se dispone solo del valor acumulado de datos, se ha de obtener de estos \n",
    "#datos los casos reales diarios registrados\n",
    "yData=np.array(Spain_Data[\"Total Confirmados\"][0:175])\n",
    "\n",
    "diarios=[]\n",
    "n=len(yData)\n",
    "lista_y=yData.tolist()\n",
    "for i in range(n):\n",
    "    resta=lista_y[n-1]-lista_y[n-2]\n",
    "    diarios.append(resta)\n",
    "    n=n-1\n",
    "len(diarios)"
   ]
  },
  {
   "cell_type": "code",
   "execution_count": 18,
   "metadata": {},
   "outputs": [],
   "source": [
    "diarios.reverse()\n",
    "for n, i in enumerate(diarios):\n",
    "    if i<0:\n",
    "        diarios[n]=0"
   ]
  },
  {
   "cell_type": "code",
   "execution_count": 19,
   "metadata": {},
   "outputs": [
    {
     "data": {
      "text/plain": [
       "1525.86"
      ]
     },
     "execution_count": 19,
     "metadata": {},
     "output_type": "execute_result"
    }
   ],
   "source": [
    "round(np.mean(diarios),2)"
   ]
  },
  {
   "cell_type": "code",
   "execution_count": 20,
   "metadata": {},
   "outputs": [
    {
     "data": {
      "image/png": "[encoded data removed]",
      "text/plain": [
       "<Figure size 1008x432 with 1 Axes>"
      ]
     },
     "metadata": {
      "needs_background": "light"
     },
     "output_type": "display_data"
    }
   ],
   "source": [
    "xData=np.array(Spain_Data[\"Días\"][0:175])\n",
    "ydev=funcdev(xData,popt[0],popt[1],popt[2])\n",
    "\n",
    "Lista_one=np.ones(len(ydev))*popt[1]\n",
    "fig, ax=plt.subplots(figsize=(14,6))\n",
    "ax.plot(xData, ydev,'b',label='datos modelo logístico')\n",
    "ax.plot(Lista_one, ydev,'black',label='Punto de inflexión')\n",
    "ax.scatter(xData,diarios,marker='o',color='red',label='Datos reales')\n",
    "ax.set_xlabel(\"Días\").set_fontsize(14)\n",
    "ax.set_ylabel(\"nº de casos diarios\").set_fontsize(14)\n",
    "ax.legend(loc='upper left');"
   ]
  },
  {
   "cell_type": "markdown",
   "metadata": {},
   "source": [
    "### Conclusiones"
   ]
  },
  {
   "cell_type": "markdown",
   "metadata": {},
   "source": [
    "* Con el modelo logístico de crecimiento , se observa que se ajusta bien al comportamiento de los datos\n",
    "* De los coeficientes, se ha podido analizar el punto de inflexión (se da en el día 75)\n",
    "* Se ha obtenido el caeficiente o factor de crecimieto de la pandemia en España durante la primera ola, el cual se puede comparar con el de otros países para llegar a plantearse diferentes hipótesis (8.82531272e+00 (Crecimiento, decrecimiento de la curva))\n",
    "* Se ha obtenido el factor N0=2.40521646e+05 (VALOR LÍMITE SUPERIOR). El cual depende de diferentes factores de la población, así como de las decisiones tomadas durante el transcurso de la pandemia en la primera ola.\n",
    "* Se ha obtenido la derivada de la función logística, para así estimar la evolución de los casos díarios y compararlos con la evolución real."
   ]
  },
  {
   "cell_type": "code",
   "execution_count": null,
   "metadata": {},
   "outputs": [],
   "source": []
  }
 ],
 "metadata": {
  "kernelspec": {
   "display_name": "Python 3",
   "language": "python",
   "name": "python3"
  },
  "language_info": {
   "codemirror_mode": {
    "name": "ipython",
    "version": 3
   },
   "file_extension": ".py",
   "mimetype": "text/x-python",
   "name": "python",
   "nbconvert_exporter": "python",
   "pygments_lexer": "ipython3",
   "version": "3.8.8"
  }
 },
 "nbformat": 4,
 "nbformat_minor": 4
}
